{
 "cells": [
  {
   "cell_type": "code",
   "execution_count": 2,
   "id": "237af654",
   "metadata": {},
   "outputs": [],
   "source": [
    "# for listing down the file names\n",
    "import os\n",
    "from midi_reader import read_midi\n",
    "\n",
    "# Array Processing\n",
    "import numpy as np\n",
    "\n"
   ]
  },
  {
   "cell_type": "code",
   "execution_count": 3,
   "id": "d7ad04e1",
   "metadata": {},
   "outputs": [
    {
     "name": "stdout",
     "output_type": "stream",
     "text": [
      "Loading Music File: schubert/wheels on the bus.mid\n"
     ]
    }
   ],
   "source": [
    "\n",
    "# specify the path\n",
    "path = 'schubert/'\n",
    "\n",
    "# read all the filenames\n",
    "files = [i for i in os.listdir(path) if i.endswith(\".mid\")]\n",
    "\n",
    "# reading each midi file\n",
    "notes_array = np.array([read_midi(path + i) for i in files])\n",
    "\n"
   ]
  },
  {
   "cell_type": "code",
   "execution_count": 4,
   "id": "ecea2471",
   "metadata": {},
   "outputs": [
    {
     "name": "stdout",
     "output_type": "stream",
     "text": [
      "[['C4' 'F4' '5.9' 'F4' 'F4' 'F4' '5.9' 'A4' 'C5' '0.5' 'A4' '5.9' 'G4'\n",
      "  '7.0' 'G4' '7.0' 'E4' '0.4' 'D4' 'C4' '7.0' 'C4' 'F4' '5.9' 'F4' 'F4'\n",
      "  'F4' '5.9' 'A4' 'C5' '0.5' 'A4' '5.9' '7.0' '10.0.4' '5.9' 'C4' 'F4'\n",
      "  '5.9' 'F4' 'F4' 'F4' '5.9' 'A4' 'C5' '0.5' 'A4' '5.9' 'G4' '7.0' 'G4'\n",
      "  '7.0' 'E4' '0.4' 'D4' 'C4' '7.0' 'C4' 'F4' '5.9' 'F4' 'F4' 'F4' '5.9'\n",
      "  'A4' 'C5' '0.5' 'A4' '5.9' '7.0' '10.0.4' '5.9']]\n"
     ]
    }
   ],
   "source": [
    "\n",
    "print(notes_array)"
   ]
  },
  {
   "cell_type": "code",
   "execution_count": 5,
   "id": "fb754f71",
   "metadata": {},
   "outputs": [
    {
     "name": "stdout",
     "output_type": "stream",
     "text": [
      "['C4', 'F4', '5.9', 'F4', 'F4', 'F4', '5.9', 'A4', 'C5', '0.5', 'A4', '5.9', 'G4', '7.0', 'G4', '7.0', 'E4', '0.4', 'D4', 'C4', '7.0', 'C4', 'F4', '5.9', 'F4', 'F4', 'F4', '5.9', 'A4', 'C5', '0.5', 'A4', '5.9', '7.0', '10.0.4', '5.9', 'C4', 'F4', '5.9', 'F4', 'F4', 'F4', '5.9', 'A4', 'C5', '0.5', 'A4', '5.9', 'G4', '7.0', 'G4', '7.0', 'E4', '0.4', 'D4', 'C4', '7.0', 'C4', 'F4', '5.9', 'F4', 'F4', 'F4', '5.9', 'A4', 'C5', '0.5', 'A4', '5.9', '7.0', '10.0.4', '5.9']\n",
      "unique\n",
      "12\n"
     ]
    }
   ],
   "source": [
    "\"\"\"\n",
    "    UNDERSTANDING THE DATA\n",
    "\"\"\"\n",
    "# converting 2D array into 1D array\n",
    "notes_ = [element for note_ in notes_array for element in note_]\n",
    "\n",
    "print(notes_)\n",
    "\n",
    "# No. of unique notes\n",
    "unique_notes = list(set(notes_))\n",
    "print(\"unique\")\n",
    "print(len(unique_notes))"
   ]
  },
  {
   "cell_type": "code",
   "execution_count": 6,
   "id": "781d8826",
   "metadata": {},
   "outputs": [
    {
     "name": "stdout",
     "output_type": "stream",
     "text": [
      "{'C4': 6, 'F4': 16, '5.9': 14, 'A4': 8, 'C5': 4, '0.5': 4, 'G4': 4, '7.0': 8, 'E4': 2, '0.4': 2, 'D4': 2, '10.0.4': 2}\n"
     ]
    }
   ],
   "source": [
    "\"\"\"\n",
    "    Notes Distribution\n",
    "\"\"\"\n",
    "\n",
    "# importing library\n",
    "from collections import Counter\n",
    "\n",
    "# computing frequency of each note\n",
    "freq = dict(Counter(notes_))\n",
    "\n",
    "# library for visualiation\n",
    "import matplotlib.pyplot as plt\n",
    "\n",
    "# consider only the frequencies\n",
    "no = [count for _, count in freq.items()]\n",
    "\n",
    "\n",
    "print(freq)\n"
   ]
  },
  {
   "cell_type": "code",
   "execution_count": 7,
   "id": "01ba4899",
   "metadata": {},
   "outputs": [
    {
     "data": {
      "image/png": "[encoded data removed]",
      "text/plain": [
       "<Figure size 360x360 with 1 Axes>"
      ]
     },
     "metadata": {
      "image/png": {
       "height": 302,
       "width": 316
      },
      "needs_background": "light"
     },
     "output_type": "display_data"
    }
   ],
   "source": [
    "# set the figure size\n",
    "plt.figure(figsize=(5, 5))\n",
    "\n",
    "# plot\n",
    "plt.hist(no)\n",
    "\n",
    "plt.show()\n"
   ]
  },
  {
   "cell_type": "code",
   "execution_count": 8,
   "id": "5aea1327",
   "metadata": {},
   "outputs": [
    {
     "name": "stdout",
     "output_type": "stream",
     "text": [
      "5\n"
     ]
    }
   ],
   "source": [
    "\"\"\" get frequent notes\"\"\"\n",
    "\n",
    "size = 50\n",
    "\n",
    "frequent_notes = [note_ for note_, count in freq.items() if count>=size]\n",
    "print(len(frequent_notes))"
   ]
  },
  {
   "cell_type": "code",
   "execution_count": 9,
   "id": "0b5ab936",
   "metadata": {},
   "outputs": [],
   "source": [
    "new_music = []\n",
    "\n",
    "for notes in notes_array:\n",
    "    temp = []\n",
    "    for note_ in notes:\n",
    "        if note_ in frequent_notes:\n",
    "            temp.append(note_)\n",
    "    new_music.append(temp)\n",
    "\n",
    "\n",
    "new_music = np.array(new_music)"
   ]
  },
  {
   "cell_type": "code",
   "execution_count": 10,
   "id": "aa091a1b",
   "metadata": {},
   "outputs": [],
   "source": [
    "no_of_timesteps = 32\n",
    "x = []\n",
    "y = []\n",
    "\n",
    "for note_ in new_music:\n",
    "    for i in range(0, len(note_) - no_of_timesteps, 1):\n",
    "        \n",
    "        #preparing input and output sequences\n",
    "        input_ = note_[i:i + no_of_timesteps]\n",
    "        output = note_[i + no_of_timesteps]\n",
    "        \n",
    "        x.append(input_)\n",
    "        y.append(output)\n",
    "        \n",
    "x=np.array(x)\n",
    "y=np.array(y)"
   ]
  },
  {
   "cell_type": "code",
   "execution_count": null,
   "id": "66a4c242",
   "metadata": {},
   "outputs": [],
   "source": []
  }
 ],
 "metadata": {
  "kernelspec": {
   "display_name": "Python 3",
   "language": "python",
   "name": "python3"
  },
  "language_info": {
   "codemirror_mode": {
    "name": "ipython",
    "version": 3
   },
   "file_extension": ".py",
   "mimetype": "text/x-python",
   "name": "python",
   "nbconvert_exporter": "python",
   "pygments_lexer": "ipython3",
   "version": "3.8.8"
  }
 },
 "nbformat": 4,
 "nbformat_minor": 5
}
